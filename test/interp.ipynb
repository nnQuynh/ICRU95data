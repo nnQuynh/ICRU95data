{
 "cells": [
  {
   "cell_type": "code",
   "execution_count": 6,
   "metadata": {},
   "outputs": [],
   "source": [
    "import scipy\n",
    "import numpy as np\n",
    "import polars as pl"
   ]
  },
  {
   "cell_type": "markdown",
   "metadata": {},
   "source": [
    "# Introduction"
   ]
  },
  {
   "cell_type": "markdown",
   "metadata": {},
   "source": [
    "# Load data"
   ]
  },
  {
   "cell_type": "code",
   "execution_count": null,
   "metadata": {},
   "outputs": [
    {
     "data": {
      "text/html": [
       "<div><style>\n",
       ".dataframe > thead > tr,\n",
       ".dataframe > tbody > tr {\n",
       "  text-align: right;\n",
       "  white-space: pre-wrap;\n",
       "}\n",
       "</style>\n",
       "<small>shape: (36, 2)</small><table border=\"1\" class=\"dataframe\"><thead><tr><th>E_keV</th><th>h_Sv/Gy</th></tr><tr><td>f64</td><td>f64</td></tr></thead><tbody><tr><td>5.0</td><td>0.000437</td></tr><tr><td>6.0</td><td>0.000781</td></tr><tr><td>7.0</td><td>0.00145</td></tr><tr><td>8.0</td><td>0.00284</td></tr><tr><td>9.0</td><td>0.00531</td></tr><tr><td>&hellip;</td><td>&hellip;</td></tr><tr><td>15000.0</td><td>33.3</td></tr><tr><td>20000.0</td><td>43.2</td></tr><tr><td>30000.0</td><td>64.1</td></tr><tr><td>40000.0</td><td>86.3</td></tr><tr><td>50000.0</td><td>109.0</td></tr></tbody></table></div>"
      ],
      "text/plain": [
       "shape: (36, 2)\n",
       "┌─────────┬──────────┐\n",
       "│ E_keV   ┆ h_Sv/Gy  │\n",
       "│ ---     ┆ ---      │\n",
       "│ f64     ┆ f64      │\n",
       "╞═════════╪══════════╡\n",
       "│ 5.0     ┆ 0.000437 │\n",
       "│ 6.0     ┆ 0.000781 │\n",
       "│ 7.0     ┆ 0.00145  │\n",
       "│ 8.0     ┆ 0.00284  │\n",
       "│ 9.0     ┆ 0.00531  │\n",
       "│ …       ┆ …        │\n",
       "│ 15000.0 ┆ 33.3     │\n",
       "│ 20000.0 ┆ 43.2     │\n",
       "│ 30000.0 ┆ 64.1     │\n",
       "│ 40000.0 ┆ 86.3     │\n",
       "│ 50000.0 ┆ 109.0    │\n",
       "└─────────┴──────────┘"
      ]
     },
     "execution_count": 4,
     "metadata": {},
     "output_type": "execute_result"
    }
   ],
   "source": [
    "\n",
    "import scipy.integrate\n",
    "import scipy.interpolate\n",
    "\n",
    "\n",
    "h = pl.read_csv('../data/Table_A_5_1b_photon_kerma_h_kermaapprox_extend.csv')\n",
    "\n",
    "xout = np.arange(5, 400, 0.5, dtype=float)\n",
    "\n",
    "yout = scipy.interpolate.CubicSpline()"
   ]
  }
 ],
 "metadata": {
  "kernelspec": {
   "display_name": "spekpy",
   "language": "python",
   "name": "python3"
  },
  "language_info": {
   "codemirror_mode": {
    "name": "ipython",
    "version": 3
   },
   "file_extension": ".py",
   "mimetype": "text/x-python",
   "name": "python",
   "nbconvert_exporter": "python",
   "pygments_lexer": "ipython3",
   "version": "3.9.18"
  }
 },
 "nbformat": 4,
 "nbformat_minor": 2
}
